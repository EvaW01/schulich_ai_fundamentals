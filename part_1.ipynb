{
 "cells": [
  {
   "cell_type": "code",
   "execution_count": null,
   "metadata": {},
   "outputs": [],
   "source": [
    "import pandas as pd\n",
    "import numpy as np\n",
    "from scipy.stats import norm\n",
    "import seaborn as sns\n",
    "import matplotlib.pyplot as plt\n",
    "from datetime import datetime"
   ]
  },
  {
   "cell_type": "markdown",
   "metadata": {},
   "source": [
    "# Key Question : How does the demographic and the income level of the people affect the preference and acceptance of self-driving cars? \n",
    "\n",
    "### Preferences for self-driving cars by age, gender, education, and income levels\n",
    "### Correlations between these variables"
   ]
  },
  {
   "cell_type": "code",
   "execution_count": null,
   "metadata": {},
   "outputs": [],
   "source": [
    "#Read raw file\n",
    "df=pd.read_csv('https://raw.githubusercontent.com/EvaW01/schulich_ai_fundamentals/main/MMAI_Fundamental_Assignment.csv')\n",
    "\n",
    "df.head()\n"
   ]
  },
  {
   "cell_type": "code",
   "execution_count": null,
   "metadata": {},
   "outputs": [],
   "source": [
    "unique_ages = df['Age'].unique()\n",
    "unique_ages"
   ]
  },
  {
   "cell_type": "code",
   "execution_count": null,
   "metadata": {},
   "outputs": [],
   "source": [
    "from scipy.stats import chi2_contingency"
   ]
  },
  {
   "cell_type": "code",
   "execution_count": null,
   "metadata": {},
   "outputs": [],
   "source": [
    "# Function to perform chi-square test and print the result\n",
    "def chi_square_test(col1, col2):\n",
    "    contingency_table = pd.crosstab(df[col1], df[col2])\n",
    "    chi2, p, dof, expected = chi2_contingency(contingency_table)\n",
    "    print(f\"Chi-square test between {col1} and {col2}:\")\n",
    "    print(f\"Chi2: {chi2}, p-value: {p}, Degrees of freedom: {dof}\")\n",
    "    print(\"Expected frequencies:\")\n",
    "    print(expected)\n",
    "    print(\"\\n\")\n",
    "\n",
    "# Perform chi-square tests for relevant pairs\n",
    "chi_square_test('Gender', 'Read_about_SelfDrive_Car')\n",
    "chi_square_test('Gender', 'Widespread_use_SelfDrive_Car')"
   ]
  },
  {
   "cell_type": "code",
   "execution_count": null,
   "metadata": {},
   "outputs": [],
   "source": [
    "chi_square_test('Education', 'Read_about_SelfDrive_Car')\n",
    "chi_square_test('Education', 'Widespread_use_SelfDrive_Car')"
   ]
  },
  {
   "cell_type": "code",
   "execution_count": null,
   "metadata": {},
   "outputs": [],
   "source": [
    "chi_square_test('Income_Level', 'Read_about_SelfDrive_Car')\n",
    "chi_square_test('Income_Level', 'Widespread_use_SelfDrive_Car')"
   ]
  },
  {
   "cell_type": "code",
   "execution_count": null,
   "metadata": {},
   "outputs": [],
   "source": [
    "chi_square_test('Age', 'Read_about_SelfDrive_Car')\n",
    "chi_square_test('Age', 'Widespread_use_SelfDrive_Car')"
   ]
  },
  {
   "cell_type": "code",
   "execution_count": null,
   "metadata": {},
   "outputs": [],
   "source": [
    "# Create count plots for preferences\n",
    "\n",
    "plt.figure(figsize=(12, 6))\n",
    "sns.countplot(x='Age', hue='Read_about_SelfDrive_Car', data=df)\n",
    "plt.title('Preferences for Self-Driving Cars by Age')\n",
    "plt.ylabel('Count')\n",
    "plt.xticks(rotation=45)\n",
    "plt.show()\n",
    "\n",
    "plt.figure(figsize=(12, 6))\n",
    "sns.countplot(x='Gender', hue='Read_about_SelfDrive_Car', data=df)\n",
    "plt.title('Preferences for Self-Driving Cars by Gender')\n",
    "plt.ylabel('Count')\n",
    "plt.xticks(rotation=45)\n",
    "plt.show()\n",
    "\n",
    "plt.figure(figsize=(12, 6))\n",
    "sns.countplot(x='Education', hue='Read_about_SelfDrive_Car', data=df)\n",
    "plt.title('Preferences for Self-Driving Cars by Education')\n",
    "plt.ylabel('Count')\n",
    "plt.xticks(rotation=45)\n",
    "plt.show()\n",
    "\n",
    "plt.figure(figsize=(12, 6))\n",
    "sns.countplot(x='Income_Level', hue='Read_about_SelfDrive_Car', data=df)\n",
    "plt.title('Preferences for Self-Driving Cars by Income Level')\n",
    "plt.ylabel('Count')\n",
    "plt.xticks(rotation=45)\n",
    "plt.show()\n"
   ]
  },
  {
   "cell_type": "code",
   "execution_count": null,
   "metadata": {},
   "outputs": [],
   "source": [
    "# Create count plots for preferences\n",
    "\n",
    "plt.figure(figsize=(12, 6))\n",
    "sns.countplot(x='Age', hue='Widespread_use_SelfDrive_Car', data=df)\n",
    "plt.title('Preferences for Self-Driving Cars by Age')\n",
    "plt.ylabel('Count')\n",
    "plt.xticks(rotation=45)\n",
    "plt.show()\n",
    "\n",
    "plt.figure(figsize=(12, 6))\n",
    "sns.countplot(x='Gender', hue='Widespread_use_SelfDrive_Car', data=df)\n",
    "plt.title('Preferences for Self-Driving Cars by Gender')\n",
    "plt.ylabel('Count')\n",
    "plt.xticks(rotation=45)\n",
    "plt.show()\n",
    "\n",
    "plt.figure(figsize=(12, 6))\n",
    "sns.countplot(x='Education', hue='Widespread_use_SelfDrive_Car', data=df)\n",
    "plt.title('Preferences for Self-Driving Cars by Education')\n",
    "plt.ylabel('Count')\n",
    "plt.xticks(rotation=45)\n",
    "plt.show()\n",
    "\n",
    "plt.figure(figsize=(12, 6))\n",
    "sns.countplot(x='Income_Level', hue='Widespread_use_SelfDrive_Car', data=df)\n",
    "plt.title('Preferences for Self-Driving Cars by Income Level')\n",
    "plt.ylabel('Count')\n",
    "plt.xticks(rotation=45)\n",
    "plt.show()\n"
   ]
  }
 ],
 "metadata": {
  "kernelspec": {
   "display_name": "Python 3",
   "language": "python",
   "name": "python3"
  },
  "language_info": {
   "codemirror_mode": {
    "name": "ipython",
    "version": 3
   },
   "file_extension": ".py",
   "mimetype": "text/x-python",
   "name": "python",
   "nbconvert_exporter": "python",
   "pygments_lexer": "ipython3",
   "version": "3.9.1"
  }
 },
 "nbformat": 4,
 "nbformat_minor": 2
}
